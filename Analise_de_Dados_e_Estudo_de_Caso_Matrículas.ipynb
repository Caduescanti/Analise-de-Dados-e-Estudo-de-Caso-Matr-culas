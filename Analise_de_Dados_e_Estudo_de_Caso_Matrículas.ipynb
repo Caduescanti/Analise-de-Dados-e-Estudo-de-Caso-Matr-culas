{
  "nbformat": 4,
  "nbformat_minor": 0,
  "metadata": {
    "colab": {
      "provenance": [],
      "private_outputs": true,
      "include_colab_link": true
    },
    "kernelspec": {
      "name": "python3",
      "display_name": "Python 3"
    },
    "language_info": {
      "name": "python"
    }
  },
  "cells": [
    {
      "cell_type": "markdown",
      "metadata": {
        "id": "view-in-github",
        "colab_type": "text"
      },
      "source": [
        "<a href=\"https://colab.research.google.com/github/Caduescanti/Analise-de-Dados-e-Estudo-de-Caso-Matr-culas/blob/main/Analise_de_Dados_e_Estudo_de_Caso_Matr%C3%ADculas.ipynb\" target=\"_parent\"><img src=\"https://colab.research.google.com/assets/colab-badge.svg\" alt=\"Open In Colab\"/></a>"
      ]
    },
    {
      "cell_type": "markdown",
      "source": [
        "**Disciplina: CK0441 - Laboratório de Ciência de Dados - UFC**\n",
        "\n",
        "\n",
        "---"
      ],
      "metadata": {
        "id": "6cST8gp8Ge10"
      }
    },
    {
      "cell_type": "markdown",
      "source": [
        "**ESTUDO DE CASO:** Histórico de matrículas do IFCE\n",
        "\n",
        "**Fonte:** https://dados.gov.br/dados/conjuntos-dados/matriculas-do-ifce\n",
        "\n",
        "**Objetivos dessa prática:**\n",
        "\n",
        "\n",
        "* Explorar um conjunto de dados desconhecido\n",
        "* Exercitar a descoberta de informações dentro dos dados"
      ],
      "metadata": {
        "id": "JFu9N4PgHPey"
      }
    },
    {
      "cell_type": "markdown",
      "source": [
        "### Dataset no Google Drive\n"
      ],
      "metadata": {
        "id": "ZA5Q-Xv6mroP"
      }
    },
    {
      "cell_type": "code",
      "source": [
        "import matplotlib.pyplot as plt\n",
        "import pandas as pd\n",
        "import seaborn as sns"
      ],
      "metadata": {
        "id": "ShiXfCxcVZMY"
      },
      "execution_count": null,
      "outputs": []
    },
    {
      "cell_type": "code",
      "source": [
        "pip install dash pandas plotly"
      ],
      "metadata": {
        "id": "L8dKRkCv1Imt"
      },
      "execution_count": null,
      "outputs": []
    },
    {
      "cell_type": "code",
      "source": [
        "pip install dash pandas plotly matplotlib seaborn\n"
      ],
      "metadata": {
        "id": "QITKSqwe8lOl"
      },
      "execution_count": null,
      "outputs": []
    },
    {
      "cell_type": "markdown",
      "source": [
        "Para a facilitaçao na criaçao de dashboards"
      ],
      "metadata": {
        "id": "TLNP5u7RC9_o"
      }
    },
    {
      "cell_type": "code",
      "source": [
        "import dash\n",
        "from dash import dcc, html\n",
        "import plotly.express as px\n",
        "import plotly.graph_objects as go\n",
        "import seaborn as sns\n",
        "import io\n",
        "import base64\n"
      ],
      "metadata": {
        "id": "K7nIjzWJ1UcP"
      },
      "execution_count": null,
      "outputs": []
    },
    {
      "cell_type": "code",
      "source": [
        "from google.colab import drive\n",
        "drive.mount('/content/drive')\n",
        "\n",
        "df = pd.read_csv('/content/drive/MyDrive/arquivos csv labcd2/m7-matriculas.csv', delimiter='\\t')\n",
        "\n",
        "df.info()\n"
      ],
      "metadata": {
        "id": "3D-viQsXprVZ"
      },
      "execution_count": null,
      "outputs": []
    },
    {
      "cell_type": "code",
      "source": [
        "#visualizar as primeiras linhas\n",
        "display(df.head())"
      ],
      "metadata": {
        "id": "7U0Nn-1U_EC9"
      },
      "execution_count": null,
      "outputs": []
    },
    {
      "cell_type": "code",
      "source": [
        "#estatiscas\n",
        "display(df.describe())"
      ],
      "metadata": {
        "id": "2eN4BlhS_i-d"
      },
      "execution_count": null,
      "outputs": []
    },
    {
      "cell_type": "code",
      "source": [
        "#verificando se ha valores nulos\n",
        "display(df.isnull().sum())"
      ],
      "metadata": {
        "id": "q2kXadQw_oX7"
      },
      "execution_count": null,
      "outputs": []
    },
    {
      "cell_type": "code",
      "source": [
        "#tratando valores nulos\n",
        "df.dropna()\n",
        "\n"
      ],
      "metadata": {
        "id": "ibrME4RoAr8k"
      },
      "execution_count": null,
      "outputs": []
    },
    {
      "cell_type": "code",
      "source": [
        "df = df.drop_duplicates()\n",
        "print(df.dtypes)\n"
      ],
      "metadata": {
        "id": "3MgMVi61BQzm"
      },
      "execution_count": null,
      "outputs": []
    },
    {
      "cell_type": "markdown",
      "source": [
        "### 1) Análise preliminar do dataset\n",
        "\n",
        "- De forma geral, quais as informações contidas no conjunto de dados? Elabore um texto de apresentação.\n",
        "- Há dados ausentes?\n",
        "- Há dados duplicados?\n",
        "- Há dados inválidos?\n",
        "- Há dados anômalos (outliers)?\n",
        "\n",
        "Para os demais passos, prepare uma versão limpa do dataframe."
      ],
      "metadata": {
        "id": "vvg_zI9hJpk5"
      }
    },
    {
      "cell_type": "code",
      "source": [
        "# Contar registros duplicados\n",
        "print(f\"Duplicatas encontradas: {df.duplicated().sum()}\")\n",
        "#nao ha duplicatas\n",
        "print(df.isnull().sum())  # Contar valores nulos por coluna\n"
      ],
      "metadata": {
        "id": "dkwCfdsk2rUK"
      },
      "execution_count": null,
      "outputs": []
    },
    {
      "cell_type": "markdown",
      "source": [
        "### 2) Linha do tempo\n",
        "\n",
        "- Qual o período de tempo que compreende os dados disponíveis?\n",
        "- Sumarize usando visualizações as principais estatísticas anuais.\n"
      ],
      "metadata": {
        "id": "1puQyMlELn4q"
      }
    },
    {
      "cell_type": "code",
      "source": [
        "# Lista todas as colunas do dataset\n",
        "print(df.columns)\n"
      ],
      "metadata": {
        "id": "vWpqRT75DTIo"
      },
      "execution_count": null,
      "outputs": []
    },
    {
      "cell_type": "code",
      "source": [
        "plt.figure(figsize=(14,7))\n",
        "sns.countplot(data=df, x=\"ANO_INICIO\", hue=\"MODALIDADE_ENSINO\", palette=\"Set2\")\n",
        "plt.title(\"Distribuição de Matrículas por Modalidade de Ensino\")\n",
        "plt.xlabel(\"Ano de Início\")\n",
        "plt.ylabel(\"Número de Matrículas\")\n",
        "plt.xticks(rotation=45)\n",
        "plt.legend(title=\"Modalidade de Ensino\")\n",
        "plt.grid(axis=\"y\", linestyle=\"--\", alpha=0.7)\n",
        "plt.show()\n"
      ],
      "metadata": {
        "id": "6ahI_dzLOW1s"
      },
      "execution_count": null,
      "outputs": []
    },
    {
      "cell_type": "code",
      "source": [
        "plt.figure(figsize=(10,6))\n",
        "sns.boxplot(x=df[\"ANO_INICIO\"])\n",
        "plt.title(\"Distribuição das Matrículas ao Longo dos Anos\")\n",
        "plt.xlabel(\"Ano de Início\")\n",
        "plt.show()\n"
      ],
      "metadata": {
        "id": "wIzN-Vw3PD0d"
      },
      "execution_count": null,
      "outputs": []
    },
    {
      "cell_type": "code",
      "source": [
        "print(f\"Ano mais antigo: {df['ANO_INICIO'].min()}\")\n",
        "print(f\"Ano mais recente: {df['ANO_INICIO'].max()}\")\n"
      ],
      "metadata": {
        "id": "7XAdlqC1Nxd3"
      },
      "execution_count": null,
      "outputs": []
    },
    {
      "cell_type": "code",
      "source": [
        "import matplotlib.pyplot as plt\n",
        "\n",
        "df[\"ANO_INICIO\"].value_counts().sort_index().plot(kind=\"bar\", figsize=(20,10), color=\"cornflowerblue\", edgecolor=\"black\")\n",
        "plt.title(\"Distribuição de Matrículas por Ano\")\n",
        "plt.xlabel(\"Ano de Início\")\n",
        "plt.ylabel(\"Número de Matrículas\")\n",
        "plt.xticks(rotation=45)\n",
        "plt.show()\n"
      ],
      "metadata": {
        "id": "wNIEd811OX_B"
      },
      "execution_count": null,
      "outputs": []
    },
    {
      "cell_type": "markdown",
      "source": [
        "### 3) Campi\n",
        "\n",
        "- Quais são os campi do IFCE?\n",
        "- Sumarize usando visualizações as principais estatísticas dos campi"
      ],
      "metadata": {
        "id": "8JvWCfdnJ5-u"
      }
    },
    {
      "cell_type": "code",
      "source": [
        "#Quais são os campi do IFCE?\n",
        "print(df[\"DESC_INSTITUICAO\"].unique())"
      ],
      "metadata": {
        "id": "Ew7Q3LVRXfre"
      },
      "execution_count": null,
      "outputs": []
    },
    {
      "cell_type": "code",
      "source": [
        "print(df[\"DESC_INSTITUICAO\"].value_counts())\n"
      ],
      "metadata": {
        "id": "9wztqjDwNfGP"
      },
      "execution_count": null,
      "outputs": []
    },
    {
      "cell_type": "code",
      "source": [
        "# Quantidade de Matrículas por Campus\n",
        "campus_counts = df[\"DESC_INSTITUICAO\"].value_counts()\n",
        "\n",
        "# Contar matrículas por campus\n",
        "matriculas_por_campus = df[\"DESC_INSTITUICAO\"].value_counts()\n",
        "\n",
        "# Criar gráfico de barras\n",
        "plt.figure(figsize=(14,7))\n",
        "matriculas_por_campus.plot(kind=\"bar\", color=\"cornflowerblue\", edgecolor=\"black\")\n",
        "plt.title(\"Número de Matrículas por Campus\")\n",
        "plt.xlabel(\"Campus\")\n",
        "plt.ylabel(\"Número de Matrículas\")\n",
        "plt.xticks(rotation=90)\n",
        "plt.grid(axis=\"y\", linestyle=\"--\", alpha=0.7)\n",
        "plt.show()\n",
        "\n"
      ],
      "metadata": {
        "id": "ude7LB6_TFDi"
      },
      "execution_count": null,
      "outputs": []
    },
    {
      "cell_type": "code",
      "source": [
        "#Matrículas por Modalidade de Ensino em Cada Campus\n",
        "matriculas_por_campus_modalidade = df.groupby([\"DESC_INSTITUICAO\", \"MODALIDADE_ENSINO\"]).size().unstack(fill_value=0)\n",
        "\n",
        "\n",
        "plt.figure(figsize=(16,8))\n",
        "sns.countplot(data=df, y=\"DESC_INSTITUICAO\", hue=\"MODALIDADE_ENSINO\", palette=\"Set1\", order=matriculas_por_campus.index)\n",
        "plt.title(\"Distribuição de Matrículas por Modalidade de Ensino nos Campi\")\n",
        "plt.xlabel(\"Número de Matrículas\")\n",
        "plt.ylabel(\"Campus\")\n",
        "plt.legend(title=\"Modalidade de Ensino\")\n",
        "plt.grid(axis=\"x\", linestyle=\"--\", alpha=0.7)\n",
        "plt.show()\n",
        "\n"
      ],
      "metadata": {
        "id": "0UVVbBOxTokb"
      },
      "execution_count": null,
      "outputs": []
    },
    {
      "cell_type": "markdown",
      "source": [
        "### 4) Cursos e Nível de Ensino\n",
        "\n",
        "- Quais são os cursos ofertados?\n",
        "- Quais são os níveis de ensino ofertados?\n",
        "- Sumarize usando visualizações as principais estatísticas dos cursos e níveis de ensino"
      ],
      "metadata": {
        "id": "f8QJUfivqAqg"
      }
    },
    {
      "cell_type": "code",
      "source": [
        "# Listar os cursos únicos\n",
        "cursos_ofertados = df[\"DESC_CURSO\"].unique()\n",
        "\n",
        "# Exibir os cursos ordenados\n",
        "display(\"Cursos Ofertados:\")\n",
        "for curso in sorted(cursos_ofertados):\n",
        "    display(\"-\", curso)\n",
        "\n",
        "# Lista única dos níveis de ensino\n",
        "niveis_ensino = df[\"NIVEL_ENSINO\"].unique()\n",
        "\n",
        "display(\"Níveis de ensino ofertados no IFCE:\")\n",
        "for nivel in sorted(niveis_ensino):\n",
        "    display(\"-\", nivel)\n"
      ],
      "metadata": {
        "id": "QDb6q-ovqxRD"
      },
      "execution_count": null,
      "outputs": []
    },
    {
      "cell_type": "code",
      "source": [
        "# Contar os níveis de ensino disponíveis\n",
        "niveis_ensino = df[\"NIVEL_ENSINO\"].value_counts()\n",
        "\n",
        "# Exibir os níveis de ensino\n",
        "print(\"Níveis de Ensino Ofertados:\")\n",
        "print(niveis_ensino)\n"
      ],
      "metadata": {
        "id": "Y6JFrQazmi_k"
      },
      "execution_count": null,
      "outputs": []
    },
    {
      "cell_type": "code",
      "source": [
        "#Visualização da distribuição dos níveis de ensino:\n",
        "# Criar gráfico de pizza para visualizar a proporção dos níveis de ensino\n",
        "plt.figure(figsize=(10,40))\n",
        "niveis_ensino.plot(kind=\"pie\", autopct=\"%1.1f%%\", colors=sns.color_palette(\"Set2\"), startangle=90)\n",
        "plt.title(\"Distribuição dos Níveis de Ensino\")\n",
        "plt.ylabel(\"\")\n",
        "plt.show()"
      ],
      "metadata": {
        "id": "syFXa6cAmr74"
      },
      "execution_count": null,
      "outputs": []
    },
    {
      "cell_type": "markdown",
      "source": [
        "### 5) Alunos\n",
        "\n",
        "- Sumarize usando visualizações as principais estatísticas dos alunos"
      ],
      "metadata": {
        "id": "VfnKmVetqyl3"
      }
    },
    {
      "cell_type": "code",
      "source": [
        "\n",
        "genero_counts = df[\"GENERO\"].value_counts()\n",
        "\n",
        "plt.figure(figsize=(8,8))\n",
        "genero_counts.plot(kind=\"pie\", autopct=\"%1.1f%%\", colors=sns.color_palette(\"pastel\"), startangle=90)\n",
        "plt.title(\"Distribuição de Gênero dos Alunos\")\n",
        "plt.ylabel(\"\")\n",
        "plt.show()\n",
        "#no campus de Fortaleza\n",
        "\n",
        "# Filtrando dados do Campus Fortaleza\n",
        "df_fortaleza = df[df[\"DESC_INSTITUICAO\"] == \"CAMPUS FORTALEZA\"]\n",
        "\n",
        "# Contar a quantidade de alunos por gênero no Campus Fortaleza\n",
        "genero_counts_fortaleza = df_fortaleza[\"GENERO\"].value_counts()\n",
        "\n",
        "plt.figure(figsize=(8,8))\n",
        "genero_counts_fortaleza.plot(kind=\"pie\", autopct=\"%1.1f%%\", colors=sns.color_palette(\"pastel\"), startangle=90)\n",
        "plt.title(\"Distribuição de Gênero dos Alunos - Campus Fortaleza\")\n",
        "plt.ylabel(\"\")  # Remove o rótulo 'y'\n",
        "plt.show()\n"
      ],
      "metadata": {
        "id": "idNpHRChupjf"
      },
      "execution_count": null,
      "outputs": []
    },
    {
      "cell_type": "code",
      "source": [
        "# Contar o número de matrículas por modalidade de ensino\n",
        "modalidade_counts = df[\"MODALIDADE_ENSINO\"].value_counts()\n",
        "\n",
        "# Criar um gráfico de barras\n",
        "plt.figure(figsize=(12,6))\n",
        "sns.barplot(x=modalidade_counts.index, y=modalidade_counts.values, palette=\"viridis\")\n",
        "plt.title(\"Número de Alunos por Modalidade de Ensino\")\n",
        "plt.xlabel(\"Modalidade de Ensino\")\n",
        "plt.ylabel(\"Número de Alunos\")\n",
        "plt.xticks(rotation=45)\n",
        "plt.grid(axis=\"y\", linestyle=\"--\", alpha=0.7)\n",
        "plt.show()\n",
        "# Filtrar dados do Campus Fortaleza\n",
        "df_fortaleza = df[df[\"DESC_INSTITUICAO\"] == \"CAMPUS FORTALEZA\"]\n",
        "\n",
        "\n",
        "# Contar o número de matrículas por modalidade de ensino no Campus Fortaleza\n",
        "modalidade_counts_fortaleza = df_fortaleza[\"MODALIDADE_ENSINO\"].value_counts()\n",
        "\n",
        "# Criar um gráfico de barras\n",
        "plt.figure(figsize=(12,6))\n",
        "sns.barplot(x=modalidade_counts_fortaleza.index, y=modalidade_counts_fortaleza.values, palette=\"viridis\")\n",
        "plt.title(\"Número de Alunos por Modalidade de Ensino - Campus Fortaleza\")\n",
        "plt.xlabel(\"Modalidade de Ensino\")\n",
        "plt.ylabel(\"Número de Alunos\")\n",
        "plt.xticks(rotation=45)\n",
        "plt.grid(axis=\"y\", linestyle=\"--\", alpha=0.7)\n",
        "plt.show()\n"
      ],
      "metadata": {
        "id": "4o8cfeG-yd1g"
      },
      "execution_count": null,
      "outputs": []
    },
    {
      "cell_type": "code",
      "source": [
        "# Contar o número de alunos por campus\n",
        "alunos_por_campus = df[\"DESC_INSTITUICAO\"].value_counts().head(10)  # Pegando os 10 maiores campi\n",
        "\n",
        "# Criar um gráfico de barras\n",
        "plt.figure(figsize=(12,6))\n",
        "sns.barplot(y=alunos_por_campus.index, x=alunos_por_campus.values, palette=\"mako\")\n",
        "plt.title(\"Top 10 Campi com Mais Alunos Matriculados\")\n",
        "plt.xlabel(\"Número de Alunos\")\n",
        "plt.ylabel(\"Campus\")\n",
        "plt.grid(axis=\"x\", linestyle=\"--\", alpha=0.7)\n",
        "plt.show()\n",
        "\n",
        "\n"
      ],
      "metadata": {
        "id": "sZ4Ds3dCyz0z"
      },
      "execution_count": null,
      "outputs": []
    },
    {
      "cell_type": "code",
      "source": [
        "# Contar o número de alunos por nível de ensino\n",
        "nivel_counts = df[\"NIVEL_ENSINO\"].value_counts()\n",
        "\n",
        "# Criar um gráfico de barras\n",
        "plt.figure(figsize=(10,5))\n",
        "sns.barplot(x=nivel_counts.index, y=nivel_counts.values, palette=\"coolwarm\")\n",
        "plt.title(\"Número de Alunos por Nível de Ensino\")\n",
        "plt.xlabel(\"Nível de Ensino\")\n",
        "plt.ylabel(\"Número de Alunos\")\n",
        "plt.xticks(rotation=45)\n",
        "plt.grid(axis=\"y\", linestyle=\"--\", alpha=0.7)\n",
        "plt.show()\n"
      ],
      "metadata": {
        "id": "hQOezDchzyIA"
      },
      "execution_count": null,
      "outputs": []
    },
    {
      "cell_type": "markdown",
      "source": [
        "os cursos com mais alunos matriculados no Campus Fortaleza entre os anos de 2022 a 2024 e listar os cursos de nível superior"
      ],
      "metadata": {
        "id": "HSc3NQ5PU7SZ"
      }
    },
    {
      "cell_type": "code",
      "source": [
        "# Filtrar dados do Campus Fortaleza e anos entre 2022 e 2024\n",
        "df_fortaleza = df[(df[\"DESC_INSTITUICAO\"] == \"CAMPUS FORTALEZA\") & (df[\"ANO_INICIO\"].between(2022, 2024))]\n",
        "\n",
        "# Contar matrículas por curso\n",
        "cursos_mais_matriculados = df_fortaleza[\"DESC_CURSO\"].value_counts().head(10)  # Top 10 cursos\n"
      ],
      "metadata": {
        "id": "ngHLt78EVBXu"
      },
      "execution_count": null,
      "outputs": []
    },
    {
      "cell_type": "code",
      "source": [
        "# Criar gráfico de barras\n",
        "plt.figure(figsize=(20,10))\n",
        "cursos_mais_matriculados.plot(kind=\"barh\", color=\"cornflowerblue\", edgecolor=\"black\")\n",
        "plt.title(\"Top 10 Cursos com Mais Matrículas no Campus Fortaleza (2022-2024)\")\n",
        "plt.xlabel(\"Número de Matrículas\")\n",
        "plt.ylabel(\"Curso\")\n",
        "plt.gca().invert_yaxis()  # Inverter para o curso com mais alunos ficar no topo\n",
        "plt.grid(axis=\"x\", linestyle=\"--\", alpha=0.7)\n",
        "plt.show()\n"
      ],
      "metadata": {
        "id": "eypEqZrlVTyu"
      },
      "execution_count": null,
      "outputs": []
    },
    {
      "cell_type": "code",
      "source": [
        "# Filtrar apenas cursos de nível graduação no Campus Fortaleza\n",
        "cursos_graduacao_fortaleza = df[(df[\"DESC_INSTITUICAO\"] == \"CAMPUS FORTALEZA\") &\n",
        "                                 (df[\"NIVEL_ENSINO\"] == \"GRADUACAO\")][\"DESC_CURSO\"].unique()\n",
        "\n",
        "# Exibir os cursos\n",
        "print(\"Cursos de Graduação no Campus Fortaleza:\")\n",
        "for curso in sorted(cursos_graduacao_fortaleza):\n",
        "    print(\"-\", curso)\n",
        "\n"
      ],
      "metadata": {
        "id": "RFkmZ5vmV6NQ"
      },
      "execution_count": null,
      "outputs": []
    },
    {
      "cell_type": "code",
      "source": [
        "# Filtrar dados do Campus Fortaleza entre 2022 e 2025\n",
        "df_fortaleza = df[(df[\"DESC_INSTITUICAO\"] == \"CAMPUS FORTALEZA\") & (df[\"ANO_INICIO\"].between(2022, 2025))]\n",
        "\n",
        "# Contar matrículas por curso\n",
        "matriculas_por_curso = df_fortaleza[\"DESC_CURSO\"].value_counts().head(10)  # Top 10 cursos\n",
        "\n",
        "# Criar gráfico de barras\n",
        "plt.figure(figsize=(12,6))\n",
        "matriculas_por_curso.plot(kind=\"barh\", color=\"cornflowerblue\", edgecolor=\"black\")\n",
        "plt.title(\"Top 10 Cursos com Mais Matrículas no Campus Fortaleza (2022-2025)\")\n",
        "plt.xlabel(\"Número de Matrículas\")\n",
        "plt.ylabel(\"Curso\")\n",
        "plt.gca().invert_yaxis()  # Curso com mais alunos no topo\n",
        "plt.grid(axis=\"x\", linestyle=\"--\", alpha=0.7)\n",
        "plt.show()\n"
      ],
      "metadata": {
        "id": "cuyybKn9uJ7Z"
      },
      "execution_count": null,
      "outputs": []
    },
    {
      "cell_type": "code",
      "source": [
        "#Evolução das Matrículas no Campus Fortaleza (2022-2025)\n",
        "# Contar o número de matrículas por ano no Campus Fortaleza\n",
        "matriculas_por_ano = df_fortaleza[\"ANO_INICIO\"].value_counts().sort_index()\n",
        "\n",
        "# Criar gráfico de linha\n",
        "plt.figure(figsize=(10,5))\n",
        "sns.lineplot(x=matriculas_por_ano.index, y=matriculas_por_ano.values, marker=\"o\", color=\"darkblue\")\n",
        "plt.title(\"Evolução das Matrículas no Campus Fortaleza (2022-2025)\")\n",
        "plt.xlabel(\"Ano de Início\")\n",
        "plt.ylabel(\"Número de Matrículas\")\n",
        "plt.grid(axis=\"y\", linestyle=\"--\", alpha=0.7)\n",
        "plt.show()\n"
      ],
      "metadata": {
        "id": "0z070YHGuPfB"
      },
      "execution_count": null,
      "outputs": []
    },
    {
      "cell_type": "code",
      "source": [
        "import dash\n",
        "from dash import dcc, html\n",
        "import pandas as pd\n",
        "import plotly.express as px\n",
        "import matplotlib.pyplot as plt\n",
        "import seaborn as sns\n",
        "import plotly.graph_objects as go\n",
        "\n",
        "# Criar o app Dash\n",
        "app = dash.Dash(__name__)\n",
        "\n",
        "# Dados de exemplo (substitua pelo seu dataframe real)\n",
        "# Exemplo de como você pode preparar o DataFrame\n",
        "data = {\n",
        "    'ANO_INICIO': [2022, 2023, 2024, 2025],\n",
        "    'MATRICULAS': [2500, 3000, 4000, 5500]  # Exemplificando o número de matrículas por ano\n",
        "}\n",
        "df_fortaleza = pd.DataFrame(data)\n",
        "\n",
        "# Contar o número de matrículas por ano no Campus Fortaleza\n",
        "matriculas_por_ano = df_fortaleza[\"ANO_INICIO\"].value_counts().sort_index()\n",
        "\n",
        "# Criar o gráfico de linha com Plotly\n",
        "fig = go.Figure()\n",
        "\n",
        "# Adicionando a linha\n",
        "fig.add_trace(go.Scatter(x=matriculas_por_ano.index, y=matriculas_por_ano.values,\n",
        "                         mode='lines+markers', line=dict(color='darkblue', width=2),\n",
        "                         marker=dict(size=8, color='darkblue')))\n",
        "\n",
        "# Definir título e labels\n",
        "fig.update_layout(\n",
        "    title=\"Evolução das Matrículas no Campus Fortaleza (2022-2025)\",\n",
        "    xaxis_title=\"Ano de Início\",\n",
        "    yaxis_title=\"Número de Matrículas\",\n",
        "    template=\"plotly_white\",\n",
        "    plot_bgcolor='rgba(0,0,0,0)',  # Fundo transparente para o gráfico\n",
        "    xaxis=dict(showgrid=True, gridwidth=1, gridcolor='lightgray'),\n",
        "    yaxis=dict(showgrid=True, gridwidth=1, gridcolor='lightgray')\n",
        ")\n",
        "\n",
        "# Layout do dashboard\n",
        "app.layout = html.Div([\n",
        "    html.H1(\"Dashboard de Matrículas - Campus Fortaleza\", style={'text-align': 'center'}),\n",
        "    html.Div([\n",
        "        dcc.Graph(\n",
        "            id='evolucao-matriculas',\n",
        "            figure=fig\n",
        "        ),\n",
        "    ]),\n",
        "])\n",
        "\n",
        "# Rodar o servidor\n",
        "if __name__ == '__main__':\n",
        "    app.run_server(debug=True)\n"
      ],
      "metadata": {
        "id": "on_36xpTB4_w"
      },
      "execution_count": null,
      "outputs": []
    },
    {
      "cell_type": "markdown",
      "source": [],
      "metadata": {
        "id": "cAhbgUGE0qdm"
      }
    },
    {
      "cell_type": "code",
      "source": [
        "# Filtrar dados para o Campus Fortaleza e anos de 2022 a 2024\n",
        "df_fortaleza_2022_2024 = df[(df[\"DESC_INSTITUICAO\"] == \"CAMPUS FORTALEZA\") & (df[\"ANO_INICIO\"].between(2022, 2024))]\n",
        "\n",
        "# Contar o número de matrículas por ano\n",
        "matriculas_por_ano_fortaleza = df_fortaleza_2022_2024[\"ANO_INICIO\"].value_counts().sort_index()\n",
        "\n",
        "# Calcular o total de matrículas\n",
        "total_matriculas = matriculas_por_ano_fortaleza.sum()\n",
        "\n",
        "# Calcular a probabilidade de cada ano\n",
        "probabilidades = matriculas_por_ano_fortaleza / total_matriculas\n",
        "\n",
        "# Criar um gráfico de barras para visualizar a probabilidade de mais matrículas por ano\n",
        "plt.figure(figsize=(12,6))\n",
        "sns.barplot(x=probabilidades.index, y=probabilidades.values, palette=\"Blues_d\")\n",
        "plt.title(\"Probabilidade de Matrículas no Campus Fortaleza (2022 a 2024)\")\n",
        "plt.xlabel(\"Ano de Início\")\n",
        "plt.ylabel(\"Probabilidade\")\n",
        "plt.grid(axis=\"y\", linestyle=\"--\", alpha=0.7)\n",
        "plt.show()\n",
        "\n",
        "# Exibir as probabilidades\n",
        "probabilidades\n"
      ],
      "metadata": {
        "id": "pLDUGbZH0q1N"
      },
      "execution_count": null,
      "outputs": []
    },
    {
      "cell_type": "markdown",
      "source": [
        "2022: 24.73% de probabilidade de matrículas\n",
        "2023: 24.49% de probabilidade de matrículas\n",
        "2024: 50.78% de probabilidade de matrículas\n",
        "Isso indica que, em 2024, a probabilidade de haver mais matrículas no Campus Fortaleza é significativamente maior, em comparação com os anos anteriores (2022 e 2023)."
      ],
      "metadata": {
        "id": "TdJZB2472ZZk"
      }
    },
    {
      "cell_type": "code",
      "source": [
        "import dash\n",
        "from dash import dcc, html\n",
        "import pandas as pd\n",
        "import plotly.express as px\n",
        "\n",
        "# Criar o app Dash\n",
        "app = dash.Dash(__name__)\n",
        "\n",
        "# Dados de exemplo (substitua pelo seu dataframe)\n",
        "data = {\n",
        "    'Ano': [2022, 2023, 2024],\n",
        "    'Probabilidade': [0.247255, 0.244928, 0.507817]\n",
        "}\n",
        "df = pd.DataFrame(data)\n",
        "\n",
        "# Criar o gráfico de barras\n",
        "fig = px.bar(df, x='Ano', y='Probabilidade',\n",
        "             title='Probabilidade de Matrículas no Campus Fortaleza (2022 a 2024)',\n",
        "             labels={'Ano': 'Ano de Início', 'Probabilidade': 'Probabilidade'})\n",
        "\n",
        "# Layout do dashboard\n",
        "app.layout = html.Div([\n",
        "    html.H1(\"Dashboard de Matrículas - Campus Fortaleza\", style={'text-align': 'center'}),\n",
        "    html.Div([\n",
        "        dcc.Graph(\n",
        "            id='probabilidade-matriculas',\n",
        "            figure=fig\n",
        "        ),\n",
        "    ]),\n",
        "])\n",
        "\n",
        "# Rodar o servidor\n",
        "if __name__ == '__main__':\n",
        "    app.run_server(debug=True)\n",
        "\n"
      ],
      "metadata": {
        "id": "8aAWfGbq9DHL"
      },
      "execution_count": null,
      "outputs": []
    }
  ]
}